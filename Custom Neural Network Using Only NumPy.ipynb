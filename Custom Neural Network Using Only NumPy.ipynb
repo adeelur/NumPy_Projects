{
 "cells": [
  {
   "cell_type": "markdown",
   "id": "e720ecda-cbc4-430b-95ee-393493585054",
   "metadata": {},
   "source": [
    "### Import NumPy"
   ]
  },
  {
   "cell_type": "code",
   "execution_count": 18,
   "id": "8b84e5da-972e-4f22-a48e-24b8fdcf531b",
   "metadata": {},
   "outputs": [],
   "source": [
    "import numpy as np"
   ]
  },
  {
   "cell_type": "markdown",
   "id": "f1d66131-1450-4f21-a255-df5eea43562e",
   "metadata": {},
   "source": [
    "### Activation Functions"
   ]
  },
  {
   "cell_type": "code",
   "execution_count": 19,
   "id": "4de778fc-0b70-4e6f-a6f4-c1d67c901e1d",
   "metadata": {},
   "outputs": [],
   "source": [
    "def sigmoid(x):\n",
    "    \n",
    "    return 1 / (1 + np.exp(-x))\n",
    "\n",
    "def sigmoid_derivative(x):\n",
    "    \n",
    "    return x * (1 - x)\n",
    "\n",
    "def relu(x):\n",
    "    \n",
    "    return np.maximum(0, x)\n",
    "\n",
    "def relu_derivative(x):\n",
    "    \n",
    "    return (x > 0).astype(float)\n"
   ]
  },
  {
   "cell_type": "markdown",
   "id": "808caeb6-66d2-4383-9c1e-5d6548303deb",
   "metadata": {},
   "source": [
    "### Initialize Weights and Biases"
   ]
  },
  {
   "cell_type": "code",
   "execution_count": 20,
   "id": "a40c2315-2dd4-4411-bf21-6e2281f37fda",
   "metadata": {},
   "outputs": [],
   "source": [
    "def initialize_parameters(input_size, hidden_size, output_size):\n",
    "    \n",
    "    np.random.seed(42)\n",
    "    \n",
    "    W1 = np.random.randn(hidden_size, input_size) * np.sqrt(2.0 / input_size)\n",
    "    B1 = np.zeros((hidden_size, 1))\n",
    "    \n",
    "    W2 = np.random.randn(output_size, hidden_size) * np.sqrt(2.0 / hidden_size)\n",
    "    B2 = np.zeros((output_size, 1))\n",
    "    \n",
    "    return W1, B1, W2, B2\n"
   ]
  },
  {
   "cell_type": "markdown",
   "id": "41b192ff-4d32-4821-b593-a762fda7f679",
   "metadata": {},
   "source": [
    "### Forward Propagation"
   ]
  },
  {
   "cell_type": "code",
   "execution_count": 21,
   "id": "c4c7d8df-10e3-4357-929c-defefeb66bdf",
   "metadata": {},
   "outputs": [],
   "source": [
    "def forward_propagation(X, W1, B1, W2, B2):\n",
    "    \n",
    "    Z1 = np.dot(W1, X) + B1\n",
    "    A1 = relu(Z1)\n",
    "    \n",
    "    Z2 = np.dot(W2, A1) + B2\n",
    "    A2 = sigmoid(Z2)\n",
    "    \n",
    "    return Z1, A1, Z2, A2\n"
   ]
  },
  {
   "cell_type": "markdown",
   "id": "8a3f9ad1-c674-4678-919f-cd0a84324f79",
   "metadata": {},
   "source": [
    "### Compute Loss (Binary Cross-Entropy)"
   ]
  },
  {
   "cell_type": "code",
   "execution_count": 22,
   "id": "9ca686e2-2675-44a4-950f-99c30a34c068",
   "metadata": {},
   "outputs": [],
   "source": [
    "def compute_loss(Y, A2):\n",
    "    \"\"\"Binary cross-entropy loss.\"\"\"\n",
    "    m = Y.shape[1]\n",
    "    loss = (-1 / m) * np.sum(Y * np.log(A2) + (1 - Y) * np.log(1 - A2))\n",
    "    return loss"
   ]
  },
  {
   "cell_type": "markdown",
   "id": "5a3848a3-1cd2-4b08-b557-0521c16d6d7e",
   "metadata": {},
   "source": [
    "### Backpropagation"
   ]
  },
  {
   "cell_type": "code",
   "execution_count": 23,
   "id": "354c5dfa-b95f-4a73-b1fb-17b47a8d356a",
   "metadata": {},
   "outputs": [],
   "source": [
    "def backpropagation(X, Y, Z1, A1, A2, W1, W2, B1, B2, learning_rate):\n",
    "\n",
    "    m = X.shape[1]\n",
    "\n",
    "    dZ2 = A2 - Y\n",
    "    dW2 = (1 / m) * np.dot(dZ2, A1.T)\n",
    "    dB2 = (1 / m) * np.sum(dZ2, axis=1, keepdims=True)\n",
    "\n",
    "    dZ1 = np.dot(W2.T, dZ2) * relu_derivative(A1)\n",
    "    dW1 = (1 / m) * np.dot(dZ1, X.T)\n",
    "    dB1 = (1 / m) * np.sum(dZ1, axis=1, keepdims=True)\n",
    "\n",
    "    W1 -= learning_rate * dW1\n",
    "    B1 -= learning_rate * dB1\n",
    "    W2 -= learning_rate * dW2\n",
    "    B2 -= learning_rate * dB2\n",
    "\n",
    "    return W1, B1, W2, B2\n"
   ]
  },
  {
   "cell_type": "markdown",
   "id": "1daa26e1-c8b1-48d1-b299-f3c37b7ce79c",
   "metadata": {},
   "source": [
    "### Training the Neural Network"
   ]
  },
  {
   "cell_type": "code",
   "execution_count": 24,
   "id": "662e6cc4-256f-4595-b742-5ca8a8bbf116",
   "metadata": {},
   "outputs": [],
   "source": [
    "def train(X, Y, hidden_size=4, learning_rate=0.1, epochs=1000):\n",
    "    \n",
    "    input_size = X.shape[0]\n",
    "    output_size = Y.shape[0]\n",
    "    \n",
    "    W1, B1, W2, B2 = initialize_parameters(input_size, hidden_size, output_size)\n",
    "    \n",
    "    for epoch in range(epochs):\n",
    "        Z1, A1, Z2, A2 = forward_propagation(X, W1, B1, W2, B2)\n",
    "        \n",
    "        loss = compute_loss(Y, A2)\n",
    "        \n",
    "        W1, B1, W2, B2 = backpropagation(X, Y, Z1, A1, A2, W1, W2, B1, B2, learning_rate)\n",
    "        \n",
    "        if epoch % 100 == 0:\n",
    "            print(f\"Epoch {epoch}: Loss = {loss:.4f}\")\n",
    "    \n",
    "    return W1, B1, W2, B2\n"
   ]
  },
  {
   "cell_type": "markdown",
   "id": "5abff257-78eb-4d64-82ed-6b14e85b2ea3",
   "metadata": {},
   "source": [
    "### Testing the Neural Network"
   ]
  },
  {
   "cell_type": "code",
   "execution_count": 25,
   "id": "074a4901-9771-4f9f-8430-060dadc750ad",
   "metadata": {},
   "outputs": [],
   "source": [
    "def predict(X, W1, B1, W2, B2):\n",
    "    _, _, _, A2 = forward_propagation(X, W1, B1, W2, B2)\n",
    "    return (A2 > 0.5).astype(int)\n"
   ]
  },
  {
   "cell_type": "markdown",
   "id": "a63efff6-0da7-4188-8a95-601a049096f2",
   "metadata": {},
   "source": [
    "### Running the Model on Sample Data"
   ]
  },
  {
   "cell_type": "code",
   "execution_count": 26,
   "id": "4c11b2c1-af08-4dbf-99c0-21c24c665d7d",
   "metadata": {},
   "outputs": [
    {
     "name": "stdout",
     "output_type": "stream",
     "text": [
      "Epoch 0: Loss = 0.7083\n",
      "Epoch 100: Loss = 0.6771\n",
      "Epoch 200: Loss = 0.5814\n",
      "Epoch 300: Loss = 0.4146\n",
      "Epoch 400: Loss = 0.2839\n",
      "Epoch 500: Loss = 0.1929\n",
      "Epoch 600: Loss = 0.1362\n",
      "Epoch 700: Loss = 0.0998\n",
      "Epoch 800: Loss = 0.0770\n",
      "Epoch 900: Loss = 0.0616\n",
      "Predictions: [[0 1 1 0]]\n"
     ]
    }
   ],
   "source": [
    "X_train = np.array([[0, 0, 1, 1], [0, 1, 0, 1]])\n",
    "Y_train = np.array([[0, 1, 1, 0]])\n",
    "\n",
    "W1, B1, W2, B2 = train(X_train, Y_train, hidden_size=4, learning_rate=0.1, epochs=1000)\n",
    "\n",
    "predictions = predict(X_train, W1, B1, W2, B2)\n",
    "print(\"Predictions:\", predictions)"
   ]
  },
  {
   "cell_type": "code",
   "execution_count": null,
   "id": "2f0a4ce9-7a89-4260-abe8-238b759a74a4",
   "metadata": {},
   "outputs": [],
   "source": []
  }
 ],
 "metadata": {
  "kernelspec": {
   "display_name": "Python 3 (ipykernel)",
   "language": "python",
   "name": "python3"
  },
  "language_info": {
   "codemirror_mode": {
    "name": "ipython",
    "version": 3
   },
   "file_extension": ".py",
   "mimetype": "text/x-python",
   "name": "python",
   "nbconvert_exporter": "python",
   "pygments_lexer": "ipython3",
   "version": "3.13.1"
  }
 },
 "nbformat": 4,
 "nbformat_minor": 5
}
