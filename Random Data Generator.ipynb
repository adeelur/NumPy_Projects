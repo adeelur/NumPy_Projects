{
 "cells": [
  {
   "cell_type": "markdown",
   "id": "331f7d1e-e82e-42cc-8f0d-ce0ddef8299d",
   "metadata": {},
   "source": [
    "# Random Data Generator (Using Only NumPy)"
   ]
  },
  {
   "cell_type": "code",
   "execution_count": null,
   "id": "3ee3cd93-56b6-48bb-918d-0211d5ee8810",
   "metadata": {},
   "outputs": [],
   "source": [
    "### "
   ]
  },
  {
   "cell_type": "code",
   "execution_count": 1,
   "id": "95b02914-8f46-408f-9510-f699a421c5f1",
   "metadata": {},
   "outputs": [],
   "source": [
    "import numpy as np"
   ]
  },
  {
   "cell_type": "markdown",
   "id": "96d9851c-0b60-4f9f-9b16-45fdc87a868f",
   "metadata": {},
   "source": [
    "### Generate Random Integers and Floats"
   ]
  },
  {
   "cell_type": "code",
   "execution_count": 2,
   "id": "9c243ec6-9652-49b6-846b-a5b9f74cd101",
   "metadata": {},
   "outputs": [
    {
     "name": "stdout",
     "output_type": "stream",
     "text": [
      "Random Integer: 31\n",
      "Random Float: 0.794809428774639\n",
      "Random Float Array: [8.39357519 8.68394943 8.280858   7.57507007 0.32143253]\n"
     ]
    }
   ],
   "source": [
    "random_int = np.random.randint(1, 101)\n",
    "\n",
    "random_float = np.random.rand()\n",
    "\n",
    "random_float_array = np.random.uniform(0, 10, size=5)\n",
    "\n",
    "print(\"Random Integer:\", random_int)\n",
    "print(\"Random Float:\", random_float)\n",
    "print(\"Random Float Array:\", random_float_array)\n"
   ]
  },
  {
   "cell_type": "markdown",
   "id": "f9ded410-0e4c-4b63-b7df-9a6217e5d894",
   "metadata": {},
   "source": [
    "### Generate Data from Different Distributions"
   ]
  },
  {
   "cell_type": "code",
   "execution_count": 3,
   "id": "5784b47c-33a6-4315-96ea-0f83f98be3f6",
   "metadata": {},
   "outputs": [
    {
     "name": "stdout",
     "output_type": "stream",
     "text": [
      "Normal Distribution: [ 0.70585605 -1.14916517  1.08357668  1.20726325  0.93555136]\n",
      "Uniform Distribution: [5.9710629  3.5905206  6.15006198 9.67986986 8.80400561]\n",
      "Poisson Distribution: [3 1 3 3 2]\n",
      "Binomial Distribution: [4 7 5 6 3]\n"
     ]
    }
   ],
   "source": [
    "normal_dist = np.random.normal(0, 1, 5)\n",
    "\n",
    "uniform_dist = np.random.uniform(1, 10, 5)\n",
    "\n",
    "poisson_dist = np.random.poisson(3, 5)\n",
    "\n",
    "binomial_dist = np.random.binomial(n=10, p=0.5, size=5)\n",
    "\n",
    "print(\"Normal Distribution:\", normal_dist)\n",
    "print(\"Uniform Distribution:\", uniform_dist)\n",
    "print(\"Poisson Distribution:\", poisson_dist)\n",
    "print(\"Binomial Distribution:\", binomial_dist)\n"
   ]
  },
  {
   "cell_type": "markdown",
   "id": "e39f741e-b40d-4263-9ef6-1b46871f8707",
   "metadata": {},
   "source": [
    "### Shuffle and Select Random Samples"
   ]
  },
  {
   "cell_type": "code",
   "execution_count": 4,
   "id": "ee7dda8f-8a84-4e58-b0fa-6fff74a313ef",
   "metadata": {},
   "outputs": [
    {
     "name": "stdout",
     "output_type": "stream",
     "text": [
      "Shuffled Dataset: [ 6  1  2  8  3  5  7  9  4 10]\n",
      "Random Samples: [6 1 2]\n"
     ]
    }
   ],
   "source": [
    "dataset = np.arange(1, 11)\n",
    "\n",
    "np.random.shuffle(dataset)\n",
    "\n",
    "random_samples = np.random.choice(dataset, size=3, replace=False)\n",
    "\n",
    "print(\"Shuffled Dataset:\", dataset)\n",
    "print(\"Random Samples:\", random_samples)\n"
   ]
  },
  {
   "cell_type": "markdown",
   "id": "9aa6d0b4-8954-4b53-b694-0c450274dd73",
   "metadata": {},
   "source": [
    "### Generate Structured Random Data (Names & Ages)"
   ]
  },
  {
   "cell_type": "code",
   "execution_count": 5,
   "id": "edcdd849-2fa0-4fdd-8766-55fa48e29cac",
   "metadata": {},
   "outputs": [
    {
     "name": "stdout",
     "output_type": "stream",
     "text": [
      "Random Names and Ages:\n",
      " [['Fatima' '21']\n",
      " ['Ayesha' '39']\n",
      " ['Bilal' '26']\n",
      " ['Bilal' '31']\n",
      " ['Usman' '20']]\n"
     ]
    }
   ],
   "source": [
    "names = np.array([\"Ali\", \"Sara\", \"Ahmed\", \"Ayesha\", \"Usman\", \"Fatima\", \"Bilal\", \"Zainab\"])\n",
    "\n",
    "random_names = np.random.choice(names, size=5, replace=True)\n",
    "\n",
    "random_ages = np.random.randint(20, 50, size=5)\n",
    "\n",
    "random_data = np.column_stack((random_names, random_ages))\n",
    "\n",
    "print(\"Random Names and Ages:\\n\", random_data)\n"
   ]
  },
  {
   "cell_type": "markdown",
   "id": "c26afb15-94ec-403f-bcb9-b6aab14d4b43",
   "metadata": {},
   "source": [
    "## Generate Fake User Data (IDs, Salaries, and Departments)"
   ]
  },
  {
   "cell_type": "code",
   "execution_count": 6,
   "id": "72f72fd4-de57-40a3-95fd-e59a860bf9d3",
   "metadata": {},
   "outputs": [
    {
     "name": "stdout",
     "output_type": "stream",
     "text": [
      "Employee Data:\n",
      " [['28136' '114314' 'Marketing']\n",
      " ['13696' '94484' 'Marketing']\n",
      " ['22596' '83791' 'HR']\n",
      " ['44501' '132194' 'HR']\n",
      " ['63376' '82454' 'Marketing']]\n"
     ]
    }
   ],
   "source": [
    "employee_ids = np.random.randint(10000, 99999, size=5)\n",
    "\n",
    "salaries = np.random.randint(40000, 150000, size=5)\n",
    "\n",
    "departments = np.array([\"HR\", \"IT\", \"Marketing\", \"Finance\", \"Sales\"])\n",
    "random_departments = np.random.choice(departments, size=5, replace=True)\n",
    "\n",
    "employee_data = np.column_stack((employee_ids, salaries, random_departments))\n",
    "\n",
    "print(\"Employee Data:\\n\", employee_data)\n"
   ]
  },
  {
   "cell_type": "code",
   "execution_count": null,
   "id": "ec83b9a3-ddd6-4317-9b9d-44cdce17ef81",
   "metadata": {},
   "outputs": [],
   "source": []
  }
 ],
 "metadata": {
  "kernelspec": {
   "display_name": "Python 3 (ipykernel)",
   "language": "python",
   "name": "python3"
  },
  "language_info": {
   "codemirror_mode": {
    "name": "ipython",
    "version": 3
   },
   "file_extension": ".py",
   "mimetype": "text/x-python",
   "name": "python",
   "nbconvert_exporter": "python",
   "pygments_lexer": "ipython3",
   "version": "3.13.1"
  }
 },
 "nbformat": 4,
 "nbformat_minor": 5
}
