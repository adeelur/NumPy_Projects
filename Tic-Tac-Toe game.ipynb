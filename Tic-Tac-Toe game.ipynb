{
 "cells": [
  {
   "cell_type": "markdown",
   "id": "0b1a6396-ebb5-4325-b949-b89653232714",
   "metadata": {},
   "source": [
    "# Tic-Tac-Toe game"
   ]
  },
  {
   "cell_type": "markdown",
   "id": "b3326528-ee5c-4dc0-ab24-5965bb960b6b",
   "metadata": {},
   "source": [
    "This project implements **Tic-Tac-Toe** using only NumPy for all computations.\n",
    "- Uses a 3x3 NumPy array to store the board\n",
    "- Implements vectorized win-checking (row, column, diagonal)\n",
    "- Supports human vs. human or human vs. AI"
   ]
  },
  {
   "cell_type": "markdown",
   "id": "d544778a-def5-419d-bb7f-fb13cdfa3e55",
   "metadata": {},
   "source": [
    "### Initialize the Board"
   ]
  },
  {
   "cell_type": "code",
   "execution_count": 46,
   "id": "e8864dad-2900-4d75-aa73-a1caf4cee820",
   "metadata": {},
   "outputs": [],
   "source": [
    "import numpy as np\n",
    "import random\n",
    "\n",
    "PLAYER_X = 1\n",
    "PLAYER_O = -1\n",
    "EMPTY = 0\n",
    "\n",
    "board = np.zeros((3, 3), dtype=int)"
   ]
  },
  {
   "cell_type": "markdown",
   "id": "1e215cb7-7e2b-443e-a76c-e01416c0524a",
   "metadata": {},
   "source": [
    "### Display the Board"
   ]
  },
  {
   "cell_type": "code",
   "execution_count": 47,
   "id": "a0c5c634-55bc-4502-9ca0-9cfaaa02ec68",
   "metadata": {},
   "outputs": [],
   "source": [
    "def print_board():\n",
    "    symbols = {PLAYER_X: \"X\", PLAYER_O: \"O\", EMPTY: \" \"}\n",
    "    for row in board:\n",
    "        print(\" | \".join(symbols[cell] for cell in row))\n",
    "        print(\"-\" * 9)\n"
   ]
  },
  {
   "cell_type": "markdown",
   "id": "2d3fa385-56b3-4ec9-9fc1-ebb9c8a0f2b9",
   "metadata": {},
   "source": [
    "### Check for a Winner"
   ]
  },
  {
   "cell_type": "code",
   "execution_count": 48,
   "id": "9dee4b0b-3324-4cd9-b4cd-7721a2519b3d",
   "metadata": {},
   "outputs": [],
   "source": [
    "def check_winner():\n",
    "    for row in range(3):\n",
    "        if abs(np.sum(board[row, :])) == 3:\n",
    "            return board[row, 0]\n",
    "\n",
    "    for col in range(3):\n",
    "        if abs(np.sum(board[:, col])) == 3:\n",
    "            return board[0, col]\n",
    "\n",
    "    if abs(np.sum(np.diag(board))) == 3:\n",
    "        return board[0, 0]\n",
    "    if abs(np.sum(np.diag(np.fliplr(board)))) == 3:\n",
    "        return board[0, 2]\n",
    "\n",
    "    return 0\n"
   ]
  },
  {
   "cell_type": "markdown",
   "id": "01a4ec1d-1d81-4e1e-bf30-e02a46011092",
   "metadata": {},
   "source": [
    "### Minimax Algorithm"
   ]
  },
  {
   "cell_type": "code",
   "execution_count": 49,
   "id": "8115cba8-06ae-43d4-b6ff-bbf1456e8324",
   "metadata": {},
   "outputs": [],
   "source": [
    "def minimax(board, depth, is_maximizing):\n",
    "    winner = check_winner()\n",
    "    if winner == PLAYER_X:\n",
    "        return -1\n",
    "    elif winner == PLAYER_O:\n",
    "        return 1\n",
    "    elif np.all(board != 0):\n",
    "        return 0\n",
    "\n",
    "    if is_maximizing:\n",
    "        best_score = -np.inf\n",
    "        for row, col in np.argwhere(board == EMPTY):\n",
    "            board[row, col] = PLAYER_O\n",
    "            score = minimax(board, depth + 1, False)\n",
    "            board[row, col] = EMPTY\n",
    "            best_score = max(score, best_score)\n",
    "        return best_score\n",
    "    else:\n",
    "        best_score = np.inf\n",
    "        for row, col in np.argwhere(board == EMPTY):\n",
    "            board[row, col] = PLAYER_X\n",
    "            score = minimax(board, depth + 1, True)\n",
    "            board[row, col] = EMPTY\n",
    "            best_score = min(score, best_score)\n",
    "        return best_score\n"
   ]
  },
  {
   "cell_type": "markdown",
   "id": "684375d9-b6fb-4278-8949-1ddc66054f2f",
   "metadata": {},
   "source": [
    "### AI Move"
   ]
  },
  {
   "cell_type": "code",
   "execution_count": 50,
   "id": "03f593df-6d1e-4285-8ac7-d7f150d2b34b",
   "metadata": {},
   "outputs": [],
   "source": [
    "def best_ai_move():\n",
    "    if random.random() < 0.4:\n",
    "        available_moves = list(zip(*np.where(board == EMPTY)))\n",
    "        return random.choice(available_moves)\n",
    "\n",
    "    best_score = -np.inf\n",
    "    best_move = None\n",
    "    for row, col in np.argwhere(board == EMPTY):\n",
    "        board[row, col] = PLAYER_O\n",
    "        score = minimax(board, 0, False)\n",
    "        board[row, col] = EMPTY\n",
    "        if score > best_score:\n",
    "            best_score = score\n",
    "            best_move = (row, col)\n",
    "    return best_move\n"
   ]
  },
  {
   "cell_type": "markdown",
   "id": "8848c4df-6b38-4079-9dba-8e614b54abff",
   "metadata": {},
   "source": [
    "### Human Move"
   ]
  },
  {
   "cell_type": "code",
   "execution_count": 51,
   "id": "fb4b6531-68a3-4427-a13f-1700940f6635",
   "metadata": {},
   "outputs": [],
   "source": [
    "def human_move():\n",
    "    while True:\n",
    "        try:\n",
    "            row, col = map(int, input(\"Enter row and column (0-2, space-separated): \").split())\n",
    "            if board[row, col] == EMPTY:\n",
    "                return row, col\n",
    "            else:\n",
    "                print(\"Cell already taken! Try again.\")\n",
    "        except (ValueError, IndexError):\n",
    "            print(\"Invalid input! Enter numbers between 0 and 2.\")\n"
   ]
  },
  {
   "cell_type": "markdown",
   "id": "1d0cdfdc-f610-4b2f-a018-00fb2c262554",
   "metadata": {},
   "source": [
    "### Game Loop"
   ]
  },
  {
   "cell_type": "code",
   "execution_count": null,
   "id": "a7430eed-c5d7-4ed3-863c-79c9dfaa953a",
   "metadata": {},
   "outputs": [
    {
     "name": "stdout",
     "output_type": "stream",
     "text": [
      "Welcome to Tic-Tac-Toe! You play as X.\n",
      "  |   |  \n",
      "---------\n",
      "  |   |  \n",
      "---------\n",
      "  |   |  \n",
      "---------\n"
     ]
    },
    {
     "name": "stdin",
     "output_type": "stream",
     "text": [
      "Enter row and column (0-2, space-separated):  2 2\n"
     ]
    },
    {
     "name": "stdout",
     "output_type": "stream",
     "text": [
      "  |   |  \n",
      "---------\n",
      "  |   |  \n",
      "---------\n",
      "  |   | X\n",
      "---------\n",
      "AI is thinking...\n",
      "  |   |  \n",
      "---------\n",
      "  | O |  \n",
      "---------\n",
      "  |   | X\n",
      "---------\n"
     ]
    },
    {
     "name": "stdin",
     "output_type": "stream",
     "text": [
      "Enter row and column (0-2, space-separated):  0 2\n"
     ]
    },
    {
     "name": "stdout",
     "output_type": "stream",
     "text": [
      "  |   | X\n",
      "---------\n",
      "  | O |  \n",
      "---------\n",
      "  |   | X\n",
      "---------\n",
      "AI is thinking...\n",
      "  |   | X\n",
      "---------\n",
      "  | O |  \n",
      "---------\n",
      "  | O | X\n",
      "---------\n"
     ]
    }
   ],
   "source": [
    "def play_game():\n",
    "    global board\n",
    "    board = np.zeros((3, 3), dtype=int)\n",
    "    print(\"Welcome to Tic-Tac-Toe! You play as X.\")\n",
    "    print_board()\n",
    "    player_turn = True\n",
    "\n",
    "    while True:\n",
    "        if player_turn:\n",
    "            row, col = human_move()\n",
    "            board[row, col] = PLAYER_X\n",
    "        else:\n",
    "            print(\"AI is thinking...\")\n",
    "            move = best_ai_move()\n",
    "            board[move] = PLAYER_O\n",
    "\n",
    "        print_board()\n",
    "\n",
    "        winner = check_winner()\n",
    "        if winner == PLAYER_X:\n",
    "            print(\"Congratulations! You win! 🎉\")\n",
    "            break\n",
    "        elif winner == PLAYER_O:\n",
    "            print(\"AI wins! Better luck next time. 🤖\")\n",
    "            break\n",
    "        elif np.all(board != EMPTY):\n",
    "            print(\"It's a draw! 🤝\")\n",
    "            break\n",
    "\n",
    "        player_turn = not player_turn\n",
    "\n",
    "play_game()\n"
   ]
  },
  {
   "cell_type": "code",
   "execution_count": null,
   "id": "b15da6d0-d4e3-4103-9ee8-4d7819b0a203",
   "metadata": {},
   "outputs": [],
   "source": []
  }
 ],
 "metadata": {
  "kernelspec": {
   "display_name": "Python 3 (ipykernel)",
   "language": "python",
   "name": "python3"
  },
  "language_info": {
   "codemirror_mode": {
    "name": "ipython",
    "version": 3
   },
   "file_extension": ".py",
   "mimetype": "text/x-python",
   "name": "python",
   "nbconvert_exporter": "python",
   "pygments_lexer": "ipython3",
   "version": "3.13.1"
  }
 },
 "nbformat": 4,
 "nbformat_minor": 5
}
